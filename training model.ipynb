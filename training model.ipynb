{
 "cells": [
  {
   "cell_type": "code",
   "execution_count": 10,
   "id": "d835203f",
   "metadata": {},
   "outputs": [],
   "source": [
    "import pickle\n",
    "import pandas as pd"
   ]
  },
  {
   "cell_type": "code",
   "execution_count": 2,
   "id": "d9a8920a",
   "metadata": {},
   "outputs": [],
   "source": [
    "df = pd.read_csv(\"datasets/dataset.csv\")"
   ]
  },
  {
   "cell_type": "code",
   "execution_count": 3,
   "id": "d3818031",
   "metadata": {},
   "outputs": [
    {
     "name": "stdout",
     "output_type": "stream",
     "text": [
      "<class 'pandas.core.frame.DataFrame'>\n",
      "RangeIndex: 3600 entries, 0 to 3599\n",
      "Data columns (total 7 columns):\n",
      " #   Column             Non-Null Count  Dtype  \n",
      "---  ------             --------------  -----  \n",
      " 0   Unnamed: 0         3600 non-null   int64  \n",
      " 1   pr_txt             3600 non-null   object \n",
      " 2   Категория          3600 non-null   object \n",
      " 3   Уровень рейтинга   3600 non-null   object \n",
      " 4   preprocessed_text  3600 non-null   object \n",
      " 5   target             3600 non-null   int64  \n",
      " 6   scaled_target      3600 non-null   float64\n",
      "dtypes: float64(1), int64(2), object(4)\n",
      "memory usage: 197.0+ KB\n"
     ]
    }
   ],
   "source": [
    "df.info()"
   ]
  },
  {
   "cell_type": "code",
   "execution_count": 4,
   "id": "5d8f9a35",
   "metadata": {},
   "outputs": [],
   "source": [
    "df = df.drop(columns='Unnamed: 0')"
   ]
  },
  {
   "cell_type": "markdown",
   "id": "11a3e79f",
   "metadata": {},
   "source": [
    "## TF-IDF"
   ]
  },
  {
   "cell_type": "code",
   "execution_count": 5,
   "id": "3dee37b7",
   "metadata": {},
   "outputs": [],
   "source": [
    "from sklearn.model_selection import train_test_split\n",
    "from sklearn.feature_extraction.text import TfidfVectorizer"
   ]
  },
  {
   "cell_type": "code",
   "execution_count": 6,
   "id": "dce1727e",
   "metadata": {},
   "outputs": [],
   "source": [
    "X_train, X_test, y_train, y_test = train_test_split(df['preprocessed_text'], \n",
    "                                                    df[['Категория', 'Уровень рейтинга', 'scaled_target']], \n",
    "                                                    test_size=0.3, random_state=42)"
   ]
  },
  {
   "cell_type": "code",
   "execution_count": 7,
   "id": "b22778c6",
   "metadata": {},
   "outputs": [],
   "source": [
    "vec = TfidfVectorizer(ngram_range=(3, 3))"
   ]
  },
  {
   "cell_type": "code",
   "execution_count": 8,
   "id": "e2a3efdf",
   "metadata": {},
   "outputs": [],
   "source": [
    "X_train_vec = vec.fit_transform(X_train)\n",
    "X_test_vec = vec.transform(X_test)"
   ]
  },
  {
   "cell_type": "code",
   "execution_count": 9,
   "id": "1fa0d637",
   "metadata": {},
   "outputs": [
    {
     "data": {
      "text/plain": [
       "(2520, 556776)"
      ]
     },
     "execution_count": 9,
     "metadata": {},
     "output_type": "execute_result"
    }
   ],
   "source": [
    "X_train_vec.shape"
   ]
  },
  {
   "cell_type": "code",
   "execution_count": 12,
   "id": "87dea6d7",
   "metadata": {},
   "outputs": [
    {
     "name": "stdout",
     "output_type": "stream",
     "text": [
      "saved\n"
     ]
    }
   ],
   "source": [
    " with open(f'models/TF-IDF 3 n-grams.pkl', 'wb') as f:\n",
    "            pickle.dump(vec, f)\n",
    "            print(f'saved')"
   ]
  },
  {
   "cell_type": "markdown",
   "id": "de7c3b21",
   "metadata": {},
   "source": [
    "## Rergression2Classification"
   ]
  },
  {
   "cell_type": "code",
   "execution_count": 13,
   "id": "af5cfa48",
   "metadata": {},
   "outputs": [],
   "source": [
    "from sklearn.linear_model import LinearRegression"
   ]
  },
  {
   "cell_type": "code",
   "execution_count": 14,
   "id": "823acaed",
   "metadata": {},
   "outputs": [
    {
     "data": {
      "text/plain": [
       "LinearRegression()"
      ]
     },
     "execution_count": 14,
     "metadata": {},
     "output_type": "execute_result"
    }
   ],
   "source": [
    "model = LinearRegression()\n",
    "model.fit(X_train_vec, y_train['scaled_target'])"
   ]
  },
  {
   "cell_type": "code",
   "execution_count": 15,
   "id": "8a90b8e0",
   "metadata": {},
   "outputs": [],
   "source": [
    "pred = model.predict(X_test_vec)"
   ]
  },
  {
   "cell_type": "markdown",
   "id": "7039c2da",
   "metadata": {},
   "source": [
    "#### Regerssion metrics"
   ]
  },
  {
   "cell_type": "code",
   "execution_count": 16,
   "id": "a3612cec",
   "metadata": {},
   "outputs": [],
   "source": [
    "from sklearn.metrics import mean_absolute_error, mean_squared_error"
   ]
  },
  {
   "cell_type": "code",
   "execution_count": 18,
   "id": "beba9c7d",
   "metadata": {},
   "outputs": [
    {
     "name": "stdout",
     "output_type": "stream",
     "text": [
      "MAE 0.026798834349338326\n",
      "RMSE 0.03960379997045509\n"
     ]
    }
   ],
   "source": [
    "print(f\"MAE {mean_absolute_error(y_test['scaled_target'], pred)}\")\n",
    "print(f\"RMSE {mean_squared_error(y_test['scaled_target'], pred)**0.5}\")"
   ]
  },
  {
   "cell_type": "markdown",
   "id": "28984755",
   "metadata": {},
   "source": [
    "#### Dict's manipulation for classes"
   ]
  },
  {
   "cell_type": "code",
   "execution_count": 19,
   "id": "84d3cf40",
   "metadata": {},
   "outputs": [],
   "source": [
    "new_target_values = {'AAA': 9,\n",
    "                     'AA+': 7, \n",
    "                     'AA': 6,\n",
    "                     'AA-': 5,\n",
    "                     'A+': 4,\n",
    "                     'A': 3,\n",
    "                     'A-': 2,\n",
    "                     'BBB+': 1,\n",
    "                     'BBB': 0,\n",
    "                     'BBB-': -1,\n",
    "                     'BB+': -2,\n",
    "                     'BB': -3,\n",
    "                     'BB-': -4,\n",
    "                     'B+': -5,\n",
    "                     'B': -6,\n",
    "                     'B-': -7,\n",
    "                     'C': -9}"
   ]
  },
  {
   "cell_type": "code",
   "execution_count": 20,
   "id": "99d0add4",
   "metadata": {},
   "outputs": [],
   "source": [
    "scaled_target_values = {-10: 0.0,\n",
    "                         -9: 0.04999999999999999,\n",
    "                         -8: 0.09999999999999998,\n",
    "                         -7: 0.14999999999999997,\n",
    "                         -6: 0.19999999999999996,\n",
    "                         -5: 0.25,\n",
    "                         -4: 0.3,\n",
    "                         -3: 0.35,\n",
    "                         -2: 0.4,\n",
    "                         -1: 0.45,\n",
    "                         0: 0.5,\n",
    "                         1: 0.55,\n",
    "                         2: 0.6,\n",
    "                         3: 0.65,\n",
    "                         4: 0.7,\n",
    "                         5: 0.75,\n",
    "                         6: 0.8,\n",
    "                         7: 0.8500000000000001,\n",
    "                         8: 0.9,\n",
    "                         9: 0.95,\n",
    "                         10: 1.0}"
   ]
  },
  {
   "cell_type": "code",
   "execution_count": 21,
   "id": "67e8825d",
   "metadata": {},
   "outputs": [],
   "source": [
    "new_values = ['C', 'C'] + list(new_target_values.keys())[::-1] + ['AAA', 'AAA']"
   ]
  },
  {
   "cell_type": "code",
   "execution_count": 22,
   "id": "d1f68754",
   "metadata": {},
   "outputs": [
    {
     "data": {
      "text/plain": [
       "{0.0: 'C',\n",
       " 0.04999999999999999: 'C',\n",
       " 0.09999999999999998: 'C',\n",
       " 0.14999999999999997: 'B-',\n",
       " 0.19999999999999996: 'B',\n",
       " 0.25: 'B+',\n",
       " 0.3: 'BB-',\n",
       " 0.35: 'BB',\n",
       " 0.4: 'BB+',\n",
       " 0.45: 'BBB-',\n",
       " 0.5: 'BBB',\n",
       " 0.55: 'BBB+',\n",
       " 0.6: 'A-',\n",
       " 0.65: 'A',\n",
       " 0.7: 'A+',\n",
       " 0.75: 'AA-',\n",
       " 0.8: 'AA',\n",
       " 0.8500000000000001: 'AA+',\n",
       " 0.9: 'AAA',\n",
       " 0.95: 'AAA',\n",
       " 1.0: 'AAA'}"
      ]
     },
     "execution_count": 22,
     "metadata": {},
     "output_type": "execute_result"
    }
   ],
   "source": [
    "scaled_target_values = dict(zip(scaled_target_values.values(), new_values))\n",
    "scaled_target_values"
   ]
  },
  {
   "cell_type": "markdown",
   "id": "b1dc25cb",
   "metadata": {},
   "source": [
    "#### Return classes"
   ]
  },
  {
   "cell_type": "code",
   "execution_count": 24,
   "id": "dbbd8d1b",
   "metadata": {},
   "outputs": [],
   "source": [
    "def return_rating_levels(value, error):\n",
    "    for k, v in scaled_target_values.items():\n",
    "        if abs(value - k) < error:\n",
    "            return v"
   ]
  },
  {
   "cell_type": "code",
   "execution_count": 25,
   "id": "ba1b7cf5",
   "metadata": {},
   "outputs": [],
   "source": [
    "def return_category_classes(value):\n",
    "    return value.strip('+-')"
   ]
  },
  {
   "cell_type": "code",
   "execution_count": 26,
   "id": "cb964150",
   "metadata": {},
   "outputs": [],
   "source": [
    "predicted_rating_levels = [return_rating_levels(i, 0.025) for i in pred]\n",
    "predicted_category_classes = [return_category_classes(i) for i in predicted_rating_levels]"
   ]
  },
  {
   "cell_type": "markdown",
   "id": "1a849d0e",
   "metadata": {},
   "source": [
    "#### Classification metrics"
   ]
  },
  {
   "cell_type": "code",
   "execution_count": 27,
   "id": "12133c01",
   "metadata": {},
   "outputs": [],
   "source": [
    "from sklearn.metrics import f1_score"
   ]
  },
  {
   "cell_type": "code",
   "execution_count": 28,
   "id": "cbf50c23",
   "metadata": {},
   "outputs": [
    {
     "name": "stdout",
     "output_type": "stream",
     "text": [
      "f1-micro level: 0.6712962962962963\n",
      "f1-micro category: 0.8814814814814815\n"
     ]
    }
   ],
   "source": [
    "print(f\"f1-micro level: {f1_score(y_test['Уровень рейтинга'], predicted_rating_levels, average='micro')}\")\n",
    "print(f\"f1-micro category: {f1_score(y_test['Категория'], predicted_category_classes, average='micro')}\")"
   ]
  },
  {
   "cell_type": "code",
   "execution_count": 29,
   "id": "28b32e33",
   "metadata": {},
   "outputs": [
    {
     "name": "stdout",
     "output_type": "stream",
     "text": [
      "saved\n"
     ]
    }
   ],
   "source": [
    " with open(f'models/LinReg.pkl', 'wb') as f:\n",
    "            pickle.dump(model, f)\n",
    "            print(f'saved')"
   ]
  }
 ],
 "metadata": {
  "kernelspec": {
   "display_name": "Python 3 (ipykernel)",
   "language": "python",
   "name": "python3"
  },
  "language_info": {
   "codemirror_mode": {
    "name": "ipython",
    "version": 3
   },
   "file_extension": ".py",
   "mimetype": "text/x-python",
   "name": "python",
   "nbconvert_exporter": "python",
   "pygments_lexer": "ipython3",
   "version": "3.9.13"
  }
 },
 "nbformat": 4,
 "nbformat_minor": 5
}
