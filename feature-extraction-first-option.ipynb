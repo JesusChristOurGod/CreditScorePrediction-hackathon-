{
 "cells": [
  {
   "cell_type": "code",
   "execution_count": 1,
   "metadata": {},
   "outputs": [],
   "source": [
    "import pickle\n",
    "import pandas as pd\n",
    "import numpy as np\n",
    "import re\n",
    "import string"
   ]
  },
  {
   "cell_type": "code",
   "execution_count": 2,
   "metadata": {},
   "outputs": [],
   "source": [
    "from nltk.stem.snowball import SnowballStemmer\n",
    "import pymorphy2"
   ]
  },
  {
   "cell_type": "code",
   "execution_count": 3,
   "metadata": {},
   "outputs": [],
   "source": [
    "stemmer = SnowballStemmer(\"russian\") \n",
    "morph = pymorphy2.MorphAnalyzer()"
   ]
  },
  {
   "cell_type": "code",
   "execution_count": 4,
   "metadata": {},
   "outputs": [],
   "source": [
    "# вытаскивает топ50 сырых фитчей\n",
    "def get_features(vector, model, vec_model, k):\n",
    "    \n",
    "    vector = vector.toarray()[0]\n",
    "    names = vec_model.get_feature_names_out()\n",
    "    coefs = model.coef_\n",
    "    \n",
    "    not_null_values = [(i, v, coefs[i]) for i, v in enumerate(vector) if v != 0]\n",
    "    top_100 = sorted(not_null_values, key=lambda x: abs(x[2]), reverse=True)[:100]\n",
    "    words = [names[ind] for ind, tf_idf, c in top_100]\n",
    "    adj = [w for w in words if re.search(r'\\w+[ыио]й(?!\\w)', w)]\n",
    "    \n",
    "    if len(adj) >= k*(2/3):\n",
    "        res = adj[:round(k*(2/3))] + [w for w in words if w not in adj][:round(k/3)]\n",
    "    else:\n",
    "        res = adj + [w for w in words if w not in adj][:k-len(adj)]\n",
    "        \n",
    "    return res"
   ]
  },
  {
   "cell_type": "code",
   "execution_count": 5,
   "metadata": {},
   "outputs": [],
   "source": [
    "# нормализация одного слова\n",
    "def normalized(word):\n",
    "    word_no_punct = word.translate(str.maketrans('', '', string.punctuation + \"«»—№–\"))\n",
    "    word_lem = morph.parse(word.lower())[0].normal_form\n",
    "    word_stem = stemmer.stem(word_lem)\n",
    "    return stemmer.stem(word_no_punct.lower())"
   ]
  },
  {
   "cell_type": "code",
   "execution_count": 6,
   "metadata": {},
   "outputs": [],
   "source": [
    "# возвращение сырых слов из основго предложения\n",
    "def return_important_substrings(sentence, features):\n",
    "    \n",
    "    result = []\n",
    "    for feature in features:\n",
    "        flag = False\n",
    "        f = [stemmer.stem(_) for _ in feature.split()]\n",
    "        sequence = []\n",
    "\n",
    "        for token in sentence.split():\n",
    "            t = normalized(token)\n",
    "\n",
    "            # True - начать собирать последовательность\n",
    "            if t.startswith(f[0]) or f[0] in t:\n",
    "\n",
    "                if flag:\n",
    "                    flag = False\n",
    "                    sequence.clear()\n",
    "                else:\n",
    "                    flag = True\n",
    "\n",
    "            if flag:\n",
    "                sequence.append(token)\n",
    "\n",
    "                if f[-1] in t or len(sequence) > 6:\n",
    "                    flag = False\n",
    "                    break\n",
    "\n",
    "        seq = ' '.join(sequence)\n",
    "        if seq:\n",
    "            result.append(seq)\n",
    "            \n",
    "    return result"
   ]
  },
  {
   "cell_type": "code",
   "execution_count": null,
   "metadata": {},
   "outputs": [],
   "source": [
    "features = get_features(VECTOR, model, vec_model, 40)\n",
    "result = return_important_substrings(YOURSTRING, features)"
   ]
  },
  {
   "cell_type": "markdown",
   "metadata": {},
   "source": [
    "#### Example"
   ]
  },
  {
   "cell_type": "code",
   "execution_count": 7,
   "metadata": {},
   "outputs": [
    {
     "data": {
      "text/html": [
       "<div>\n",
       "<style scoped>\n",
       "    .dataframe tbody tr th:only-of-type {\n",
       "        vertical-align: middle;\n",
       "    }\n",
       "\n",
       "    .dataframe tbody tr th {\n",
       "        vertical-align: top;\n",
       "    }\n",
       "\n",
       "    .dataframe thead th {\n",
       "        text-align: right;\n",
       "    }\n",
       "</style>\n",
       "<table border=\"1\" class=\"dataframe\">\n",
       "  <thead>\n",
       "    <tr style=\"text-align: right;\">\n",
       "      <th></th>\n",
       "      <th>pr_txt</th>\n",
       "      <th>Категория</th>\n",
       "      <th>Уровень рейтинга</th>\n",
       "      <th>preprocessed_text</th>\n",
       "      <th>target</th>\n",
       "      <th>scaled_target</th>\n",
       "    </tr>\n",
       "  </thead>\n",
       "  <tbody>\n",
       "    <tr>\n",
       "      <th>3595</th>\n",
       "      <td>«Эксперт РА» подтвердило рейтинг «Татнефти» на...</td>\n",
       "      <td>AAA</td>\n",
       "      <td>AAA</td>\n",
       "      <td>подтвердить уровень москва апрель рейтинговый ...</td>\n",
       "      <td>9</td>\n",
       "      <td>0.95</td>\n",
       "    </tr>\n",
       "    <tr>\n",
       "      <th>3596</th>\n",
       "      <td>«Эксперт РА» понизило рейтинг компании «Инвест...</td>\n",
       "      <td>BB</td>\n",
       "      <td>BB</td>\n",
       "      <td>понизить уровень изменить прогноз установить с...</td>\n",
       "      <td>-3</td>\n",
       "      <td>0.35</td>\n",
       "    </tr>\n",
       "    <tr>\n",
       "      <th>3597</th>\n",
       "      <td>АКРА подтвердило кредитный рейтинг ПАО «КАМАЗ»...</td>\n",
       "      <td>A</td>\n",
       "      <td>A+</td>\n",
       "      <td>подтвердить кредитный прогноз также подтвердит...</td>\n",
       "      <td>4</td>\n",
       "      <td>0.70</td>\n",
       "    </tr>\n",
       "    <tr>\n",
       "      <th>3598</th>\n",
       "      <td>АКРА подтвердило кредитный рейтинг ФГУП «Почта...</td>\n",
       "      <td>AAA</td>\n",
       "      <td>AAA</td>\n",
       "      <td>подтвердить кредитный фгуп уровень прогноз кре...</td>\n",
       "      <td>9</td>\n",
       "      <td>0.95</td>\n",
       "    </tr>\n",
       "    <tr>\n",
       "      <th>3599</th>\n",
       "      <td>«Эксперт РА» подтвердил рейтинг компании СИБИН...</td>\n",
       "      <td>BB</td>\n",
       "      <td>BB+</td>\n",
       "      <td>подтвердить сибинтек уровень москва апрель рей...</td>\n",
       "      <td>-2</td>\n",
       "      <td>0.40</td>\n",
       "    </tr>\n",
       "  </tbody>\n",
       "</table>\n",
       "</div>"
      ],
      "text/plain": [
       "                                                 pr_txt Категория  \\\n",
       "3595  «Эксперт РА» подтвердило рейтинг «Татнефти» на...       AAA   \n",
       "3596  «Эксперт РА» понизило рейтинг компании «Инвест...        BB   \n",
       "3597  АКРА подтвердило кредитный рейтинг ПАО «КАМАЗ»...         A   \n",
       "3598  АКРА подтвердило кредитный рейтинг ФГУП «Почта...       AAA   \n",
       "3599  «Эксперт РА» подтвердил рейтинг компании СИБИН...        BB   \n",
       "\n",
       "     Уровень рейтинга                                  preprocessed_text  \\\n",
       "3595              AAA  подтвердить уровень москва апрель рейтинговый ...   \n",
       "3596               BB  понизить уровень изменить прогноз установить с...   \n",
       "3597               A+  подтвердить кредитный прогноз также подтвердит...   \n",
       "3598              AAA  подтвердить кредитный фгуп уровень прогноз кре...   \n",
       "3599              BB+  подтвердить сибинтек уровень москва апрель рей...   \n",
       "\n",
       "      target  scaled_target  \n",
       "3595       9           0.95  \n",
       "3596      -3           0.35  \n",
       "3597       4           0.70  \n",
       "3598       9           0.95  \n",
       "3599      -2           0.40  "
      ]
     },
     "execution_count": 7,
     "metadata": {},
     "output_type": "execute_result"
    }
   ],
   "source": [
    "df = pd.read_csv('datasets/dataset.csv').drop(columns='Unnamed: 0')\n",
    "df.tail()"
   ]
  },
  {
   "cell_type": "code",
   "execution_count": 9,
   "metadata": {},
   "outputs": [],
   "source": [
    "from sklearn.feature_extraction.text import TfidfVectorizer\n",
    "vec_model = TfidfVectorizer(ngram_range=(3, 3))\n",
    "\n",
    "X_train = vec_model.fit_transform(df['preprocessed_text'][:round(df.shape[0]*0.7)])\n",
    "X_test = vec_model.transform([df['preprocessed_text'][df.shape[0]-1]])"
   ]
  },
  {
   "cell_type": "code",
   "execution_count": 10,
   "metadata": {},
   "outputs": [
    {
     "data": {
      "text/plain": [
       "'«Эксперт РА» подтвердил рейтинг компании СИБИНТЕК на уровне <Рейтинг>. Москва, 18 апреля 2019 г. Рейтинговое агентство «Эксперт РА» подтвердило рейтинг нефинансовой компании «СИБИНТЕК» на уровне «Рейтинг». Прогноз по рейтингу – стабильный. ООО ИК «СИБИНТЕК» предоставляет ИТ-услуги компаниям Группы «Роснефть» и ряду сторонних заказчиков. В текущем портфеле заказов, проектов и услуг для компаний Группы «Роснефть» в сфере ИТ автоматизация АСУ ТП занимает значительную часть – по оценкам агентства, п'"
      ]
     },
     "execution_count": 10,
     "metadata": {},
     "output_type": "execute_result"
    }
   ],
   "source": [
    "sentence = df['pr_txt'][df.shape[0]-1]\n",
    "sentence[:500]"
   ]
  },
  {
   "cell_type": "code",
   "execution_count": 11,
   "metadata": {},
   "outputs": [
    {
     "data": {
      "text/plain": [
       "<1x529090 sparse matrix of type '<class 'numpy.float64'>'\n",
       "\twith 758 stored elements in Compressed Sparse Row format>"
      ]
     },
     "execution_count": 11,
     "metadata": {},
     "output_type": "execute_result"
    }
   ],
   "source": [
    "vector = X_test\n",
    "vector"
   ]
  },
  {
   "cell_type": "code",
   "execution_count": 12,
   "metadata": {},
   "outputs": [
    {
     "name": "stderr",
     "output_type": "stream",
     "text": [
      "C:\\Users\\justa\\anaconda3\\lib\\site-packages\\sklearn\\base.py:347: InconsistentVersionWarning: Trying to unpickle estimator LinearRegression from version 1.0.2 when using version 1.3.0. This might lead to breaking code or invalid results. Use at your own risk. For more info please refer to:\n",
      "https://scikit-learn.org/stable/model_persistence.html#security-maintainability-limitations\n",
      "  warnings.warn(\n"
     ]
    }
   ],
   "source": [
    "with open(r'models/LinReg.pkl', 'rb') as model:\n",
    "    model = pickle.load(model)"
   ]
  },
  {
   "cell_type": "code",
   "execution_count": 13,
   "metadata": {},
   "outputs": [],
   "source": [
    "features = get_features(vector, model, vec_model, 40)\n",
    "result = return_important_substrings(sentence, features)"
   ]
  },
  {
   "cell_type": "code",
   "execution_count": 14,
   "metadata": {},
   "outputs": [
    {
     "data": {
      "text/plain": [
       "['привлечь дополнительное внешнее',\n",
       " 'кредитных линий, имеющихся в долгосрочной перспективе, умеренно',\n",
       " 'социального страхования РФ,',\n",
       " 'объединения информационных ресурсов,',\n",
       " 'связано, в том числе, с наличием в',\n",
       " 'программного обеспечения в иностранной',\n",
       " 'отчетная дата) задолженность компании составила около 5',\n",
       " 'года около 86% выручки происходит от этих',\n",
       " 'отдельного подразделения по управлению',\n",
       " 'представил членам рейтингового',\n",
       " 'июня 2018 года. Предыдущий',\n",
       " 'объектах',\n",
       " 'часть – по оценкам агентства, по итогам',\n",
       " 'мониторинга промышленных объектов',\n",
       " 'предназначенный для перехода к облачной',\n",
       " 'Рейтинговое агентство «Эксперт РА» подтвердило рейтинг нефинансовой',\n",
       " 'среди компаний, специализирующихся на информационных',\n",
       " 'пересмотрена (в рамках изменений в учетной политике',\n",
       " 'кредиторской задолженности. По состоянию',\n",
       " 'агентство «Эксперт РА» подтвердило рейтинг нефинансовой',\n",
       " 'предварительного уведомления, если иное',\n",
       " 'реализации данного проекта,',\n",
       " 'управленческая отчетность, что создает для агентства неопределенность',\n",
       " 'отрицательным. Ожидаемый рост',\n",
       " 'валютных рисков. Компания приобретает',\n",
       " 'пресс-релиз по данному объекту',\n",
       " 'задолженности. По состоянию на 31 декабря',\n",
       " 'рекомендацией покупать, держать',\n",
       " 'Присвоенный рейтинг и прогноз по нему отражают',\n",
       " 'Поскольку консолидированная финансовая отчетность не составляется, агентство',\n",
       " 'Конец 2017 года в связи со значительным',\n",
       " 'поддержку компании в случае необходимости. Компания имеет',\n",
       " 'Группы «Роснефть» и ряду сторонних заказчиков. В',\n",
       " 'рентабельности снизились, что связано, в том числе,',\n",
       " 'замечания до начала процесса',\n",
       " 'Кроме того, компания заключила ряд',\n",
       " 'покупателя – при росте курса валют и',\n",
       " 'Москва, 18 апреля 2019 г. Рейтинговое агентство',\n",
       " 'темпы роста среди']"
      ]
     },
     "execution_count": 14,
     "metadata": {},
     "output_type": "execute_result"
    }
   ],
   "source": [
    "result"
   ]
  },
  {
   "cell_type": "code",
   "execution_count": null,
   "metadata": {},
   "outputs": [],
   "source": []
  }
 ],
 "metadata": {
  "kernelspec": {
   "display_name": "Python 3 (ipykernel)",
   "language": "python",
   "name": "python3"
  },
  "language_info": {
   "codemirror_mode": {
    "name": "ipython",
    "version": 3
   },
   "file_extension": ".py",
   "mimetype": "text/x-python",
   "name": "python",
   "nbconvert_exporter": "python",
   "pygments_lexer": "ipython3",
   "version": "3.9.13"
  }
 },
 "nbformat": 4,
 "nbformat_minor": 1
}
