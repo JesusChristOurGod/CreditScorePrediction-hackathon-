{
 "cells": [
  {
   "cell_type": "code",
   "execution_count": 1,
   "metadata": {
    "collapsed": true
   },
   "outputs": [],
   "source": [
    "from deep_translator import GoogleTranslator\n",
    "import pandas as pd"
   ]
  },
  {
   "cell_type": "code",
   "execution_count": null,
   "outputs": [],
   "source": [
    "data=pd.read_csv('CRA_train_1200.csv')"
   ],
   "metadata": {
    "collapsed": false
   }
  },
  {
   "cell_type": "code",
   "execution_count": null,
   "outputs": [],
   "source": [
    "def split_text(text, max_length):\n",
    "    # Split the text into words\n",
    "    words = text.split()\n",
    "\n",
    "    result = []\n",
    "    current_chunk = []\n",
    "\n",
    "    for word in words:\n",
    "        if len(' '.join(current_chunk)) + len(word) + len(current_chunk) <= max_length:\n",
    "            # Add the word to the current chunk\n",
    "            current_chunk.append(word)\n",
    "        else:\n",
    "            # Start a new chunk\n",
    "            result.append(' '.join(current_chunk))\n",
    "            current_chunk = [word]\n",
    "\n",
    "    if current_chunk:\n",
    "        # Add the last chunk to the result\n",
    "        result.append(' '.join(current_chunk))\n",
    "\n",
    "    return result\n",
    "\n",
    "\n"
   ],
   "metadata": {
    "collapsed": false
   }
  },
  {
   "cell_type": "code",
   "execution_count": null,
   "outputs": [],
   "source": [
    "from time import sleep\n",
    "def translate_text_de(s):\n",
    "    translator= GoogleTranslator(source='ru', target='de')\n",
    "    batches = split_text(s, 3000)\n",
    "    mid=[]\n",
    "    result=\"\"\n",
    "    for b in batches:\n",
    "        mid.append(translator.translate(b))\n",
    "        sleep(0.1)\n",
    "    translator= GoogleTranslator(source='de', target='ru')\n",
    "    for m in mid:\n",
    "        result+=translator.translate(m)\n",
    "    return result\n",
    "def translate_text_en(s):\n",
    "    translator= GoogleTranslator(source='ru', target='en')\n",
    "    batches = split_text(s, 3000)\n",
    "    mid=[]\n",
    "    result=\"\"\n",
    "    for b in batches:\n",
    "        mid.append(translator.translate(b))\n",
    "        sleep(0.1)\n",
    "\n",
    "    translator= GoogleTranslator(source='en', target='ru')\n",
    "    for m in mid:\n",
    "        result+=translator.translate(m)\n",
    "    return result\n",
    "def translate_text_sp(s):\n",
    "    translator= GoogleTranslator(source='ru', target='es')\n",
    "    batches = split_text(s, 3000)\n",
    "    mid=[]\n",
    "    result=\"\"\n",
    "    for b in batches:\n",
    "        mid.append(translator.translate(b))\n",
    "        sleep(0.1)\n",
    "    translator= GoogleTranslator(source='es', target='ru')\n",
    "    for m in mid:\n",
    "        result+=translator.translate(m)\n",
    "    return result\n"
   ],
   "metadata": {
    "collapsed": false
   }
  },
  {
   "cell_type": "code",
   "execution_count": null,
   "outputs": [],
   "source": [
    "def generate_augmented(df, lang):\n",
    "    df_to_translate = df.copy()\n",
    "    if lang=='en':\n",
    "        df_to_translate['pr_txt']=df_to_translate['pr_txt'].apply(translate_text_en)\n",
    "    elif lang=='de':\n",
    "        df_to_translate['pr_txt']=df_to_translate['pr_txt'].apply(translate_text_de)\n",
    "    else:\n",
    "        df_to_translate['pr_txt']=df_to_translate['pr_txt'].apply(translate_text_sp)\n",
    "    return df_to_translate"
   ],
   "metadata": {
    "collapsed": false
   }
  },
  {
   "cell_type": "code",
   "execution_count": null,
   "outputs": [],
   "source": [
    "deutsch = generate_augmented(data, lang='de')\n",
    "eng=generate_augmented(data, lang='en')\n",
    "trans = pd.concat([deutsch, eng])\n",
    "trans.to_csv('translated.csv')"
   ],
   "metadata": {
    "collapsed": false
   }
  }
 ],
 "metadata": {
  "kernelspec": {
   "display_name": "Python 3",
   "language": "python",
   "name": "python3"
  },
  "language_info": {
   "codemirror_mode": {
    "name": "ipython",
    "version": 2
   },
   "file_extension": ".py",
   "mimetype": "text/x-python",
   "name": "python",
   "nbconvert_exporter": "python",
   "pygments_lexer": "ipython2",
   "version": "2.7.6"
  }
 },
 "nbformat": 4,
 "nbformat_minor": 0
}
